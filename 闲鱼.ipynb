{
 "cells": [
  {
   "cell_type": "code",
   "execution_count": 26,
   "id": "b36d4289",
   "metadata": {},
   "outputs": [],
   "source": [
    "from selenium import webdriver\n",
    "\n",
    "# 创建Chrome浏览器对象\n",
    "browser = webdriver.Chrome()\n",
    "# 加载指定的页面\n",
    "browser.get('https://m.tb.cn/h.5001Hmv?tk=g5H6dsqVXn0')\n",
    "# 设置隐式等待时间为10秒(第一次时等待10s)\n",
    "browser.implicitly_wait(10)"
   ]
  },
  {
   "cell_type": "code",
   "execution_count": 27,
   "id": "4558cded",
   "metadata": {},
   "outputs": [
    {
     "data": {
      "text/plain": [
       "True"
      ]
     },
     "execution_count": 27,
     "metadata": {},
     "output_type": "execute_result"
    }
   ],
   "source": [
    "from selenium.webdriver.common.by import By\n",
    "li = browser.find_elements(By.CSS_SELECTOR, '.rax-text-v2')\n",
    "\n",
    "# 截屏\n",
    "browser.get_screenshot_as_file('python_result.png')"
   ]
  },
  {
   "cell_type": "code",
   "execution_count": 28,
   "id": "0b0d64c5",
   "metadata": {},
   "outputs": [
    {
     "name": "stdout",
     "output_type": "stream",
     "text": [
      "LTE版 ThinkPad 联想X1 YOGA 2018款 八代i5 X1 yoga 3rd 14英寸翻转触摸超清屏 超轻薄便携笔记本电脑 游戏商务办公不卡 联想x1 Wacom 压感笔 画图\n",
      "\n",
      "配置：酷睿 i5 8350U四核处理器  8G内存  512G固态  14英寸1920*1080 IPS屏  屏幕很清晰  支持360度翻转折叠  触屏二合一  碳纤维机身  轻薄手感好  2个Typec接口快充  发售价一万多  X1高端本 大公司都在用  深得人心  支持LTE插卡4g上网！\n",
      "\n",
      "\n",
      "体验：电脑成色95新左右  各方面功能正常  运行速度很快  保证原装机无修过  无暗病  诚信卖家  请放心购买！\n",
      "\n",
      "保障：支持7天无理由退换   今天下单顺丰包邮  有原装触控笔  送电源  鼠标  鼠标垫  电脑包  机器是日文键盘送英文键盘贴贴好效果如图实拍  可验机自提  先订先出！\n"
     ]
    }
   ],
   "source": [
    "s = \"\"\n",
    "for item in li:\n",
    "    if len(item.text)>len(s):\n",
    "        s=item.text\n",
    "print(s)"
   ]
  }
 ],
 "metadata": {
  "kernelspec": {
   "display_name": "base",
   "language": "python",
   "name": "python3"
  },
  "language_info": {
   "codemirror_mode": {
    "name": "ipython",
    "version": 3
   },
   "file_extension": ".py",
   "mimetype": "text/x-python",
   "name": "python",
   "nbconvert_exporter": "python",
   "pygments_lexer": "ipython3",
   "version": "3.9.13"
  },
  "vscode": {
   "interpreter": {
    "hash": "ad2bdc8ecc057115af97d19610ffacc2b4e99fae6737bb82f5d7fb13d2f2c186"
   }
  }
 },
 "nbformat": 4,
 "nbformat_minor": 5
}
