{
 "cells": [
  {
   "cell_type": "code",
   "execution_count": 9,
   "id": "4f0e0bf7-27d1-418c-b498-6847f6ad89ff",
   "metadata": {},
   "outputs": [],
   "source": [
    "from selenium import webdriver\n",
    "from selenium.webdriver.common.by import By\n",
    "from selenium.webdriver.common.keys import Keys\n",
    "\n",
    "# 如果环境变量中没有对应的驱动，需要指定驱动的位置\n",
    "driver = webdriver.Chrome()"
   ]
  },
  {
   "cell_type": "code",
   "execution_count": 27,
   "id": "24e02e4f-9892-42ae-8a2a-760a1279a6a5",
   "metadata": {},
   "outputs": [],
   "source": [
    "import time\n",
    "\n",
    "# 闲鱼中分享内容\n",
    "driver.get(\"https://m.tb.cn/h.Uz4nFkt?tk=a5DadrlVQT8\")\n",
    "time.sleep(2)"
   ]
  },
  {
   "cell_type": "code",
   "execution_count": 28,
   "id": "2f6a952f-c0d7-410b-aa21-42365580ab10",
   "metadata": {},
   "outputs": [],
   "source": [
    "driver.get(driver.current_url)"
   ]
  },
  {
   "cell_type": "code",
   "execution_count": 11,
   "id": "1115c997",
   "metadata": {},
   "outputs": [],
   "source": [
    "with open('1.html','w+') as f:\n",
    "    f.write(driver.page_source)"
   ]
  },
  {
   "cell_type": "code",
   "execution_count": 31,
   "id": "30456356-9f6b-4437-bff2-f667372a31de",
   "metadata": {},
   "outputs": [
    {
     "ename": "AttributeError",
     "evalue": "'WebDriver' object has no attribute 'root'",
     "output_type": "error",
     "traceback": [
      "\u001b[1;31m-----------------------------------------------------------\u001b[0m",
      "\u001b[1;31mAttributeError\u001b[0m            Traceback (most recent call last)",
      "Cell \u001b[1;32mIn[31], line 1\u001b[0m\n\u001b[1;32m----> 1\u001b[0m \u001b[43mdriver\u001b[49m\u001b[38;5;241;43m.\u001b[39;49m\u001b[43mroot\u001b[49m\n",
      "\u001b[1;31mAttributeError\u001b[0m: 'WebDriver' object has no attribute 'root'"
     ]
    }
   ],
   "source": [
    "driver"
   ]
  },
  {
   "cell_type": "code",
   "execution_count": 22,
   "id": "60a37ee9-581b-49fa-b539-8d4a2355ec91",
   "metadata": {},
   "outputs": [],
   "source": [
    "li = driver.find_elements(By.CSS_SELECTOR,\".rax-text-v2\")"
   ]
  },
  {
   "cell_type": "code",
   "execution_count": 26,
   "id": "7c7a4eec",
   "metadata": {},
   "outputs": [
    {
     "data": {
      "text/plain": [
       "[<selenium.webdriver.remote.webelement.WebElement (session=\"32ed4f1f5dcebd2e27de29ad210c6a94\", element=\"C1CCF1A01CF50119983A5EAF16C15700_element_120\")>]"
      ]
     },
     "execution_count": 26,
     "metadata": {},
     "output_type": "execute_result"
    }
   ],
   "source": [
    "li"
   ]
  },
  {
   "cell_type": "code",
   "execution_count": 16,
   "id": "0aacaf05-93f9-4eeb-9d5c-f0c8e00c6c6e",
   "metadata": {},
   "outputs": [],
   "source": [
    "li = driver.find_elements(By.CLASS_NAME, \"rax-text-v2\")"
   ]
  },
  {
   "cell_type": "code",
   "execution_count": 26,
   "id": "e29721fc-03ff-47e7-a7ac-380c26064fe7",
   "metadata": {},
   "outputs": [
    {
     "ename": "IndexError",
     "evalue": "list index out of range",
     "output_type": "error",
     "traceback": [
      "\u001b[1;31m-----------------------------------------------------------\u001b[0m",
      "\u001b[1;31mIndexError\u001b[0m                Traceback (most recent call last)",
      "Cell \u001b[1;32mIn[26], line 1\u001b[0m\n\u001b[1;32m----> 1\u001b[0m \u001b[43mdriver\u001b[49m\u001b[38;5;241;43m.\u001b[39;49m\u001b[43mfind_elements\u001b[49m\u001b[43m(\u001b[49m\u001b[43mBy\u001b[49m\u001b[38;5;241;43m.\u001b[39;49m\u001b[43mCSS_SELECTOR\u001b[49m\u001b[43m,\u001b[49m\u001b[38;5;124;43m'\u001b[39;49m\u001b[38;5;124;43m#root > div > div > div > div.rax-view-v2.normal--detailContainer--1YGYI4g > div > div.rax-view-v2.detailDesc--descWrap--2i-FGe1 > span\u001b[39;49m\u001b[38;5;124;43m'\u001b[39;49m\u001b[43m)\u001b[49m\u001b[43m[\u001b[49m\u001b[38;5;241;43m0\u001b[39;49m\u001b[43m]\u001b[49m\n",
      "\u001b[1;31mIndexError\u001b[0m: list index out of range"
     ]
    }
   ],
   "source": [
    "driver.find_elements(By.CSS_SELECTOR,'')\n"
   ]
  }
 ],
 "metadata": {
  "kernelspec": {
   "display_name": "Python 3 (ipykernel)",
   "language": "python",
   "name": "python3"
  },
  "language_info": {
   "codemirror_mode": {
    "name": "ipython",
    "version": 3
   },
   "file_extension": ".py",
   "mimetype": "text/x-python",
   "name": "python",
   "nbconvert_exporter": "python",
   "pygments_lexer": "ipython3",
   "version": "3.10.9"
  }
 },
 "nbformat": 4,
 "nbformat_minor": 5
}
